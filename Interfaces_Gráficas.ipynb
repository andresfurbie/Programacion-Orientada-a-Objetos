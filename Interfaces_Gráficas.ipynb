{
 "cells": [
  {
   "cell_type": "markdown",
   "metadata": {},
   "source": [
    "# Interfaces gráficas"
   ]
  },
  {
   "cell_type": "markdown",
   "metadata": {},
   "source": [
    "Una interfaz gráfica (GUI en inglés), es un intermediario entre el programa y el usuario. Están formados por un conjunto de gráficos, ventanas, botones, menús, casillas de verificación, listas, etc.\n",
    "En Python, algunas librerías que contiene todos los módulos necesarios para crear una interfaz gráfica son:\n",
    "1. **tkInter**\n",
    "2. Kivy\n",
    "3. WxPython\n",
    "3. PyQT\n",
    "4. PySide\n",
    "\n",
    "https://www.slant.co/topics/6620/~python-gui-frameworks-toolkits"
   ]
  },
  {
   "cell_type": "markdown",
   "metadata": {},
   "source": [
    "## **tkinter**"
   ]
  },
  {
   "cell_type": "markdown",
   "metadata": {},
   "source": [
    "Al construir un programa de interfaz gráfica en Python, existen diferentes elementos con los que se va a tener que interactuar. Dichos elementos son:\n",
    "\n",
    "1. **Raíz**: Librería tk, instalada por defecto en Python. La raíz es la ventana que va a contener todos los elementos del programa con los que va a interactuar el usuario.\n",
    "2. **Widgets**: Elementos dinámicos con los que va a interactuar el usuario.\n",
    "    -  **Frame**: El frame es un elemento que nos servirá para poder administrar el resto de los elementos."
   ]
  },
  {
   "cell_type": "markdown",
   "metadata": {},
   "source": [
    "Dentro de la libreria **tkinter**, existe una clase que nos servirá para crear las raices de nuestros programas. Dicha clase es **Tk()**. A su vez, dentro de la clase Tk, existe un método que nos permitirá tener en ejecución a la ventana, hasta que el usuario termine de interactuar con ella. Dicho método es **mainloop()**.\n",
    "\n",
    "Más información en https://docs.python.org/3/library/tk.html"
   ]
  },
  {
   "cell_type": "code",
   "execution_count": 3,
   "metadata": {},
   "outputs": [],
   "source": [
    "# Importamos la librería tkinter:\n",
    "from tkinter import *\n",
    "\n",
    "# Crearemos una primera ventana:\n",
    "raiz=Tk()\n",
    "raiz.mainloop()"
   ]
  },
  {
   "cell_type": "code",
   "execution_count": 16,
   "metadata": {},
   "outputs": [],
   "source": [
    "raiz=Tk()\n",
    "raiz.title(\"Mi primer Ventana\")\n",
    "# El siguiente método es para evitar que el tamaño de la venta sea modificado.\n",
    "# Utiliza parametros booleanos para el ancho y alto.\n",
    "raiz.resizable(0,0)\n",
    "# Método para cambiar el icono en el titulo de la ventana:\n",
    "raiz.iconbitmap(\"Super-Mario.ico\")\n",
    "# Establecer el ancho y el largo:\n",
    "raiz.geometry(\"500x400\")\n",
    "# Es posible configurar el color de fondo de la ventana tambien:\n",
    "raiz.config(bg=\"beige\")\n",
    "raiz.mainloop()"
   ]
  },
  {
   "cell_type": "markdown",
   "metadata": {},
   "source": [
    "Dentro de las interfaz gráfica podremos tener diferentes elementos o widgets para interactuar. Por ejemplo un botón: "
   ]
  },
  {
   "cell_type": "code",
   "execution_count": 17,
   "metadata": {},
   "outputs": [],
   "source": [
    "from tkinter import *    # Carga módulo tk (widgets estándar)\n",
    "from tkinter import ttk  # Carga ttk (para widgets nuevos 8.5+)\n",
    "\n",
    "raiz=Tk()\n",
    "raiz.title(\"Aplicacion\")\n",
    "\n",
    "raiz.iconbitmap(\"Super-Mario.ico\")\n",
    "raiz.geometry(\"500x400\")\n",
    "raiz.config(bg=\"beige\")\n",
    "# Define un botón en la parte inferior de la ventana\n",
    "# que cuando sea presionado hará que termine el programa.\n",
    "# El primer parámetro indica el nombre de la ventana 'raiz'\n",
    "# donde se ubicará el botón\n",
    "ttk.Button(raiz, text='Salir', command=raiz.destroy).pack(side=BOTTOM)\n",
    "\n",
    "raiz.mainloop()"
   ]
  },
  {
   "cell_type": "markdown",
   "metadata": {},
   "source": [
    "Con una programación más orientada a objetos:"
   ]
  },
  {
   "cell_type": "code",
   "execution_count": 8,
   "metadata": {},
   "outputs": [],
   "source": [
    "from tkinter import *\n",
    "from tkinter import ttk\n",
    "\n",
    "# Crea una clase Python para definir el interfaz de usuario de\n",
    "# la aplicación. Cuando se cree un objeto del tipo 'Aplicacion'\n",
    "# se ejecutará automáticamente el método __init__() qué \n",
    "# construye y muestra la ventana con todos sus widgets: \n",
    "\n",
    "class Aplicacion():\n",
    "    def __init__(self):\n",
    "        raiz = Tk()\n",
    "        raiz.geometry('300x200')\n",
    "        raiz.configure(bg = 'beige')\n",
    "        raiz.title('Aplicación')\n",
    "        ttk.Button(raiz, text='Salir',command=raiz.destroy).pack(side=BOTTOM)\n",
    "        raiz.mainloop()\n",
    "        \n",
    "mi_app = Aplicacion() "
   ]
  },
  {
   "cell_type": "markdown",
   "metadata": {},
   "source": [
    "## Widgets  o Herramientas"
   ]
  },
  {
   "cell_type": "markdown",
   "metadata": {},
   "source": [
    "<table>\n",
    "  <tr>\n",
    "    <th>Clase</th>\n",
    "    <th>Librería</th>\n",
    "    <th>Descripción</th>\n",
    "  </tr>\n",
    "  <tr>\n",
    "    <td>Tk()</td>\n",
    "    <td>from tkinter import *</td>\n",
    "    <td>Clase para crear una ventana</td>\n",
    "  </tr>\n",
    "  <tr>\n",
    "    <td>Label(master, kwargs)</td>\n",
    "    <td>from tkinter import *</td>\n",
    "    <td>Clase para crear una etiqueta</td>\n",
    "  </tr>\n",
    "  <tr>\n",
    "    <td>Button(master, kwargs)</td>\n",
    "    <td>from tkinter import *</td>\n",
    "    <td>Clase para crear un botón</td>\n",
    "  </tr>\n",
    "  <tr>\n",
    "    <td>Entry(master, kwargs)</td>\n",
    "    <td>from tkinter import *</td>\n",
    "    <td>Clase para crear una caja de entrada de datos</td>\n",
    "  </tr>\n",
    "  <tr>\n",
    "    <td>Combobox(master)</td>\n",
    "    <td>from tkinter.ttk import *</td>\n",
    "    <td>Clase para crear una ventana de eventos</td>\n",
    "  </tr>\n",
    "  <tr>\n",
    "    <td>Checkbutton(master, kwargs)</td>\n",
    "    <td>from tkinter.ttk import *</td>\n",
    "    <td>Clase para crear una casilla de verificación</td>\n",
    "  </tr>\n",
    "  <tr>\n",
    "    <td>Radiobutton(master, kwargs)</td>\n",
    "    <td>from tkinter.ttk import *</td>\n",
    "    <td>Clase para crear botones de opción</td>\n",
    "  </tr>\n",
    "  <tr>\n",
    "    <td>scrolledtext.ScrolledText(master, kwargs)</td>\n",
    "    <td>from tkinter import scrolledtext</td>\n",
    "    <td>Clase para crear una caja de texto con barra de desplazamiento</td>\n",
    "  </tr>\n",
    "  <tr>\n",
    "    <td>messagebox.showinfo(\"Título del mensaje\", \"Contenido del mensaje\")</td>\n",
    "    <td>from tkinter import messagebox</td>\n",
    "    <td>Clase para crear una ventana de mensaje</td>\n",
    "  </tr>\n",
    "  <tr>\n",
    "    <td>Spinbox(master, kwargs)</td>\n",
    "    <td>from tkinter import *</td>\n",
    "    <td>Clase para crear una caja de entrada de datos con flechas de selección</td>\n",
    "  </tr>\n",
    "  <tr>\n",
    "    <td>Progressbar(master, kwargs)</td>\n",
    "    <td>from tkinter.ttk import Progressbar</td>\n",
    "    <td>Clase para crear una barra de progreso</td>\n",
    "  </tr>\n",
    "  <tr>\n",
    "    <td>Menu(master, kwargs)</td>\n",
    "    <td>from tkinter import Menu</td>\n",
    "    <td>Clase para crear un Menu en la parte superior de la ventana</td>\n",
    "  </tr>\n",
    "</table>"
   ]
  },
  {
   "cell_type": "markdown",
   "metadata": {},
   "source": [
    "### Label (Etiqueta)"
   ]
  },
  {
   "cell_type": "markdown",
   "metadata": {},
   "source": [
    "Este widget implementa una caja en la que se puede desplegar un texto o imagen. El contenido desplegado puede ser actualizado pero no es un elemento de interacción."
   ]
  },
  {
   "cell_type": "code",
   "execution_count": 14,
   "metadata": {},
   "outputs": [],
   "source": [
    "from tkinter import *\n",
    "\n",
    "root=Tk()\n",
    "root.geometry(\"200x200\")\n",
    "miLabel=Label(root, text=\"¡Bienvenidos a tkinter!\")\n",
    "miLabel.pack()\n",
    "\n",
    "root.mainloop()"
   ]
  },
  {
   "cell_type": "markdown",
   "metadata": {},
   "source": [
    "Todos los widgets tienen propiedades que se pueden cambiar. (Checa con shift+tab)"
   ]
  },
  {
   "cell_type": "code",
   "execution_count": 20,
   "metadata": {},
   "outputs": [
    {
     "data": {
      "text/plain": [
       "tkinter.Label"
      ]
     },
     "execution_count": 20,
     "metadata": {},
     "output_type": "execute_result"
    }
   ],
   "source": [
    "Label  #da shift+tab "
   ]
  },
  {
   "cell_type": "markdown",
   "metadata": {},
   "source": [
    "<table>\n",
    "  <tr>\n",
    "    <th>kwargs</th>\n",
    "    <th>Parámetro(s)</th>\n",
    "    <th>Descripción</th>\n",
    "  </tr>\n",
    "  <tr>\n",
    "    <td>Text</td>\n",
    "    <td>---</td>\n",
    "    <td>Texto que se muestra en el label</td>\n",
    "  </tr>\n",
    "  <tr>\n",
    "    <td>Bg</td>\n",
    "    <td>\"string\"</td>\n",
    "    <td>Color de fondo</td>\n",
    "  </tr>\n",
    "  <tr>\n",
    "    <td>Bitmap</td>\n",
    "    <td>Mapa de bits</td>\n",
    "    <td>Muestra el label como gráfico</td>\n",
    "  </tr>\n",
    "  <tr>\n",
    "    <td>Bd</td>\n",
    "    <td>Integer</td>\n",
    "    <td>Grosor del borde</td>\n",
    "  </tr>\n",
    "  <tr>\n",
    "    <td>Font</td>\n",
    "    <td>\"String\"</td>\n",
    "    <td>Tipo de fuente</td>\n",
    "  </tr>\n",
    "  <tr>\n",
    "    <td>Fg</td>\n",
    "    <td>\"String\"</td>\n",
    "    <td>Color de fuente</td>\n",
    "  </tr>\n",
    "  <tr>\n",
    "    <td>Width</td>\n",
    "    <td>Integer</td>\n",
    "    <td>Ancho de label (en caracteres)</td>\n",
    "  </tr>\n",
    "  <tr>\n",
    "    <td>Height</td>\n",
    "    <td>Integer</td>\n",
    "    <td>Alto de label (en caracteres)</td>\n",
    "  </tr>\n",
    "  <tr>\n",
    "    <td>Image</td>\n",
    "    <td>dirección</td>\n",
    "    <td>Muestra una imagen en lugar de texto en el label</td>\n",
    "  </tr>\n",
    "  <tr>\n",
    "    <td>justify</td>\n",
    "    <td>Booleano</td>\n",
    "    <td>Justificación del parrafo</td>\n",
    "  </tr>\n",
    "</table>"
   ]
  },
  {
   "cell_type": "code",
   "execution_count": 15,
   "metadata": {},
   "outputs": [],
   "source": [
    "from tkinter import *\n",
    "\n",
    "ventana=Tk()\n",
    "ventana.title(\"Segunda ventana\")\n",
    "ventana.geometry(\"380x300\")\n",
    "ventana.configure(bg=\"DeepSkyblue4\")\n",
    "\n",
    "etiqueta=Label(ventana, text=\"Esta es otra etiqueta\", bg=\"yellow\")\n",
    "etiqueta.pack()\n",
    "ventana.mainloop()"
   ]
  },
  {
   "cell_type": "code",
   "execution_count": 19,
   "metadata": {},
   "outputs": [],
   "source": [
    "from tkinter import *\n",
    "\n",
    "ventana=Tk()\n",
    "ventana.title(\"Segunda ventana\")\n",
    "ventana.geometry(\"380x300\")\n",
    "ventana.configure(bg=\"DeepSkyblue4\")\n",
    "\n",
    "Label(ventana, text=\"Bienvenidos\",font=(\"Comic Sans MS\", 24), \n",
    "      bg=\"cyan\").place(x=20,y=0)\n",
    "\n",
    "Label(ventana, text=\"a la creacion de etiquetas\",font=(\"Times\",24, \"bold italic\"), \n",
    "      bg=\"blue4\", fg=\"white\").place(x=10,y=60)\n",
    "\n",
    "Label(ventana, text=\"en nuestra nueva\",font=(\"Helvetica\", 36,\"bold\"), \n",
    "      bg=\"dodgerblue\").place(x=50,y=120)\n",
    "\n",
    "Label(ventana, text=\"ventana\",font=(\"Comic Sans MS\", 24), \n",
    "      bg=\"SlateBlue4\", fg=\"lightcyan\").place(x=120,y=180)\n",
    "\n",
    "ventana.mainloop()"
   ]
  },
  {
   "cell_type": "markdown",
   "metadata": {},
   "source": [
    "###  Frame"
   ]
  },
  {
   "cell_type": "markdown",
   "metadata": {},
   "source": [
    "Uno de las herramientas más importantes de tkinter es un marco (FRAME) para el proceso de agrupar y organizar otros widgets de una manera amigable. Funciona como un contenedor, que se encarga de organizar la posición de otros widgets."
   ]
  },
  {
   "cell_type": "code",
   "execution_count": 21,
   "metadata": {},
   "outputs": [],
   "source": [
    "# Agregamos un marco a la ventana\n",
    "raiz=Tk()\n",
    "raiz.title(\"Ventana con marco\")\n",
    "raiz.config(bg=\"blue\")\n",
    "#raiz.geometry('500x400')\n",
    "\n",
    "miFrame=Frame()\n",
    "miFrame.pack()\n",
    "# Se modifica el color del frame para hecerlo visible en la ventana\n",
    "miFrame.config(bg=\"red\")\n",
    "# Es necesario agregar tamaño al frame para que sea visible\n",
    "# La raíz se adapta al tamaño del frame\n",
    "miFrame.config(width=400, height=300)\n",
    "\n",
    "raiz.mainloop()"
   ]
  },
  {
   "cell_type": "code",
   "execution_count": 34,
   "metadata": {},
   "outputs": [],
   "source": [
    "# Modificar adonde aparece\n",
    "raiz=Tk()\n",
    "raiz.title(\"Ventana con marco\")\n",
    "raiz.config(bg=\"blue\")\n",
    "raiz.geometry('500x400')\n",
    "\n",
    "miFrame=Frame()\n",
    "#miFrame.pack(side=LEFT) #LEFT/RIGHT/BOTTOM/TOP\n",
    "\n",
    "miFrame.pack(side=\"right\", anchor=\"n\")  #anchor de acuerdo a puntos cardinales \n",
    "\n",
    "\n",
    "miFrame.config(bg=\"red\")\n",
    "miFrame.config(width=400, height=300)\n",
    "\n",
    "# Se modifica también el borde\n",
    "miFrame.config(bd=20)  #tamaño del borde\n",
    "miFrame.config(relief=GROOVE)  #tipo del borde  FLAT/RAISED/SUNKEN/GROOVE/RIDGE\n",
    "\n",
    "raiz.mainloop()"
   ]
  },
  {
   "cell_type": "markdown",
   "metadata": {},
   "source": [
    "### PhotoImage"
   ]
  },
  {
   "cell_type": "code",
   "execution_count": 35,
   "metadata": {},
   "outputs": [],
   "source": [
    "from tkinter import *    # Carga módulo tk (widgets estándar)\n",
    "from tkinter import ttk  # Carga ttk (para widgets nuevos 8.5+)\n",
    "\n",
    "# Define la ventana principal de la aplicación\n",
    "\n",
    "raiz = Tk()\n",
    "\n",
    "raiz.geometry('300x200') # anchura x altura\n",
    "\n",
    "raiz.configure(bg = 'beige')\n",
    "raiz.title('Aplicación')\n",
    "raiz.iconbitmap(\"Super-Mario.ico\")\n",
    "\n",
    "ttk.Button(raiz, text='Salir', command=raiz.destroy).pack(side=BOTTOM)\n",
    "\n",
    "marco = Frame()\n",
    "#marco.config(bg=\"white\")\n",
    "\n",
    "#Añade un elemento para contener el archivo con la imagen\n",
    "foto =PhotoImage(file=\"mario.png\")\n",
    "#se asocia la imagen con la etiqueta de despliegue\n",
    "foto_label =Label(marco, image=foto)\n",
    "nombre = Label(marco, text=\"Mario Bros\", anchor=W)\n",
    "\n",
    "#Ubica los elementos y los despliega\n",
    "foto_label.pack(side=TOP)\n",
    "nombre.pack(side=BOTTOM)\n",
    "\n",
    "marco.pack(fill=NONE, expand=1) \n",
    "\n",
    "raiz.mainloop()"
   ]
  },
  {
   "cell_type": "markdown",
   "metadata": {},
   "source": [
    "#### Ejercicio: \n",
    "\n",
    "Crea una ventana que contenga lo siguiente:\n",
    "-  El fondo de un color de tu preferencia\n",
    "-  foto y el nombre de un personaje \n",
    "-  El titulo e icono acorde al tema que elegiste\n",
    "-  Añade un boton que cambie de color el fondo\n",
    "\n",
    "Juega con los diferentes elementos de ubicación,borde "
   ]
  },
  {
   "cell_type": "markdown",
   "metadata": {},
   "source": [
    "### Button   "
   ]
  },
  {
   "cell_type": "code",
   "execution_count": 36,
   "metadata": {},
   "outputs": [],
   "source": [
    "from tkinter import *\n",
    "\n",
    "root = Tk()\n",
    "frame = Frame(root)\n",
    "frame.pack()\n",
    "\n",
    "bottomframe = Frame(root)\n",
    "bottomframe.pack( side = BOTTOM )\n",
    "\n",
    "redbutton = Button(frame, text=\"Red\", fg=\"red\")\n",
    "redbutton.pack( side = LEFT)\n",
    "\n",
    "greenbutton = Button(frame, text=\"green\", fg=\"green\")\n",
    "greenbutton.pack( side = LEFT )\n",
    "\n",
    "bluebutton = Button(frame, text=\"Blue\", fg=\"blue\")\n",
    "bluebutton.pack( side = LEFT )\n",
    "\n",
    "blackbutton = Button(bottomframe, text=\"Black\", fg=\"black\")\n",
    "blackbutton.pack( side = BOTTOM)\n",
    "\n",
    "root.mainloop()"
   ]
  },
  {
   "cell_type": "code",
   "execution_count": null,
   "metadata": {},
   "outputs": [],
   "source": []
  }
 ],
 "metadata": {
  "kernelspec": {
   "display_name": "Python 3",
   "language": "python",
   "name": "python3"
  },
  "language_info": {
   "codemirror_mode": {
    "name": "ipython",
    "version": 3
   },
   "file_extension": ".py",
   "mimetype": "text/x-python",
   "name": "python",
   "nbconvert_exporter": "python",
   "pygments_lexer": "ipython3",
   "version": "3.7.3"
  }
 },
 "nbformat": 4,
 "nbformat_minor": 2
}
