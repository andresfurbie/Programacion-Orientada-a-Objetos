{
 "cells": [
  {
   "cell_type": "markdown",
   "metadata": {},
   "source": [
    "# Conceptos de Programación Orientada a Objetos"
   ]
  },
  {
   "cell_type": "markdown",
   "metadata": {},
   "source": [
    "El paradigma de programación orientada a objetos permite estructurar los programas de tal manera que las propiedades y sus comportamientos están unidos en objetos individuales."
   ]
  },
  {
   "cell_type": "markdown",
   "metadata": {},
   "source": [
    "## Clases"
   ]
  },
  {
   "cell_type": "markdown",
   "metadata": {},
   "source": [
    "Las clases permiten crear estructuras definidas por el usuario que permiten contener información y comportamiento de una entidad. "
   ]
  },
  {
   "cell_type": "markdown",
   "metadata": {},
   "source": [
    "#### Atributos  \n",
    "Una clase crea un nuevo espacio de nombres local donde se definen todos sus atributos. Los atributos pueden ser datos o métodos."
   ]
  },
  {
   "cell_type": "code",
   "execution_count": 10,
   "metadata": {},
   "outputs": [
    {
     "name": "stdout",
     "output_type": "stream",
     "text": [
      "mi primera clase\n"
     ]
    },
    {
     "data": {
      "text/plain": [
       "'Clase de ejemplo'"
      ]
     },
     "execution_count": 10,
     "metadata": {},
     "output_type": "execute_result"
    }
   ],
   "source": [
    "#class crea un objeto clase y le asign un nombre\n",
    "class Molde:\n",
    "    'Clase de ejemplo'\n",
    "    forma=''               #las asignaciones dentro de la clase crean atributos\n",
    "    tam=0\n",
    "    def imprime(self):\n",
    "        print('mi primera clase')\n",
    "        \n",
    "        \n",
    "objeto=Molde()    # crea una instancia de la clase Molde ... un objeto\n",
    "objeto.imprime()\n",
    "\n",
    "Molde.__doc__  #nos da la cadena de documentación de esa clase"
   ]
  },
  {
   "cell_type": "markdown",
   "metadata": {},
   "source": [
    "## Objetos \n",
    "El objeto es una instancia de una clase. Es una colección de datos (variables) y métodos (funciones) que actúan sobre esos datos. La clase es la plantilla con la que se crea el objeto."
   ]
  },
  {
   "cell_type": "code",
   "execution_count": 5,
   "metadata": {},
   "outputs": [
    {
     "name": "stdout",
     "output_type": "stream",
     "text": [
      "forma  cuadrado\n",
      "tamaño  5\n"
     ]
    }
   ],
   "source": [
    "#class crea un objeto clase y le asign un nombre\n",
    "class Molde:\n",
    "    'Clase de ejemplo'\n",
    "    forma=''\n",
    "    tam=0\n",
    "    def imprime(self):   # self referencía el objeto instancia que está siendo procesado\n",
    "        print('forma ',self.forma)\n",
    "        print('tamaño ',self.tam)\n",
    "    \n",
    "objeto=Molde()\n",
    "objeto.forma='cuadrado'  #los atributos se accesan nombreObjeto.nombreAtributo\n",
    "objeto.tam=5\n",
    "objeto.imprime()"
   ]
  },
  {
   "cell_type": "markdown",
   "metadata": {},
   "source": [
    "### Constuctor   \n",
    "Es una función que es llamada cada vez que un nuevo objeto de una clase es instanciado"
   ]
  },
  {
   "cell_type": "code",
   "execution_count": 16,
   "metadata": {},
   "outputs": [
    {
     "name": "stdout",
     "output_type": "stream",
     "text": [
      "Cuenta de  Juan Perez\n",
      "Impuesto a pagar 3000.0\n"
     ]
    }
   ],
   "source": [
    "class Cuenta:\n",
    "    saldo=0.0\n",
    "    nombre=''\n",
    "    tipo=''\n",
    "    def __init__(self,s,n):     #constuctor\n",
    "        self.saldo = s\n",
    "        self.nombre = n\n",
    "        self.tipo = 'ahorro' \n",
    "    def impuesto(self):          \n",
    "        if self.saldo < 5000:\n",
    "            return 0\n",
    "        else:\n",
    "            return self.saldo * .3\n",
    "\n",
    "ctaJuan=Cuenta(10000,'Juan Perez')\n",
    "print('Cuenta de ',ctaJuan.nombre)\n",
    "print(\"Impuesto a pagar\",ctaJuan.impuesto())"
   ]
  },
  {
   "attachments": {},
   "cell_type": "markdown",
   "metadata": {},
   "source": [
    "**Ejercicios:**\n",
    "1. Describe con tus propias palabras que es : \n",
    "    -  Clase\n",
    "    -  Objeto\n",
    "    -  Constructor\n",
    "    -  Atributo\n",
    "    -  Método\n",
    "2. Escribe una clase de una entidad de tu preferencia (coche, figura, animal etc.) que contenga campos para tres datos, un constructor para la clase y un método que despliegue la información."
   ]
  },
  {
   "cell_type": "code",
   "execution_count": null,
   "metadata": {},
   "outputs": [],
   "source": []
  }
 ],
 "metadata": {
  "kernelspec": {
   "display_name": "Python 3",
   "language": "python",
   "name": "python3"
  },
  "language_info": {
   "codemirror_mode": {
    "name": "ipython",
    "version": 3
   },
   "file_extension": ".py",
   "mimetype": "text/x-python",
   "name": "python",
   "nbconvert_exporter": "python",
   "pygments_lexer": "ipython3",
   "version": "3.7.4"
  }
 },
 "nbformat": 4,
 "nbformat_minor": 2
}
