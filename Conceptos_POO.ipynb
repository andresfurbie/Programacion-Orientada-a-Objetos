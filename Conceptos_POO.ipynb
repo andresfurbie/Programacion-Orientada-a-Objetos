{
 "cells": [
  {
   "cell_type": "markdown",
   "metadata": {},
   "source": [
    "# Conceptos de Programación Orientada a Objetos"
   ]
  },
  {
   "cell_type": "markdown",
   "metadata": {},
   "source": [
    "El paradigma de programación orientada a objetos permite estructurar los programas de tal manera que las propiedades y sus comportamientos están unidos en objetos individuales."
   ]
  },
  {
   "cell_type": "markdown",
   "metadata": {},
   "source": [
    "## Clases"
   ]
  },
  {
   "cell_type": "markdown",
   "metadata": {},
   "source": [
    "Las clases permiten crear estructuras definidas por el usuario que permiten contener información y comportamiento de una entidad. "
   ]
  },
  {
   "cell_type": "markdown",
   "metadata": {},
   "source": [
    "#### Atributos  \n",
    "Una clase crea un nuevo espacio de nombres local donde se definen todos sus atributos. Los atributos pueden ser datos o métodos."
   ]
  },
  {
   "cell_type": "code",
   "execution_count": 10,
   "metadata": {},
   "outputs": [
    {
     "name": "stdout",
     "output_type": "stream",
     "text": [
      "mi primera clase\n"
     ]
    },
    {
     "data": {
      "text/plain": [
       "'Clase de ejemplo'"
      ]
     },
     "execution_count": 10,
     "metadata": {},
     "output_type": "execute_result"
    }
   ],
   "source": [
    "#class crea un objeto clase y le asign un nombre\n",
    "class Molde:\n",
    "    'Clase de ejemplo'\n",
    "    forma=''               #las asignaciones dentro de la clase crean atributos\n",
    "    tam=0\n",
    "    def imprime(self):\n",
    "        print('mi primera clase')\n",
    "        \n",
    "        \n",
    "objeto=Molde()    # crea una instancia de la clase Molde ... un objeto\n",
    "objeto.imprime()\n",
    "\n",
    "Molde.__doc__  #nos da la cadena de documentación de esa clase"
   ]
  },
  {
   "cell_type": "markdown",
   "metadata": {},
   "source": [
    "## Objetos \n",
    "El objeto es una instancia de una clase. Es una colección de datos (variables) y métodos (funciones) que actúan sobre esos datos. La clase es la plantilla con la que se crea el objeto."
   ]
  },
  {
   "cell_type": "code",
   "execution_count": 5,
   "metadata": {},
   "outputs": [
    {
     "name": "stdout",
     "output_type": "stream",
     "text": [
      "forma  cuadrado\n",
      "tamaño  5\n"
     ]
    }
   ],
   "source": [
    "#class crea un objeto clase y le asign un nombre\n",
    "class Molde:\n",
    "    'Clase de ejemplo'\n",
    "    forma=''\n",
    "    tam=0\n",
    "    def imprime(self):   # self referencía el objeto instancia que está siendo procesado\n",
    "        print('forma ',self.forma)\n",
    "        print('tamaño ',self.tam)\n",
    "    \n",
    "objeto=Molde()\n",
    "objeto.forma='cuadrado'  #los atributos se accesan nombreObjeto.nombreAtributo\n",
    "objeto.tam=5\n",
    "objeto.imprime()"
   ]
  },
  {
   "cell_type": "markdown",
   "metadata": {},
   "source": [
    "### Inicializador\n",
    "Es una función que es llamada cada vez que un nuevo objeto de una clase es instanciado"
   ]
  },
  {
   "cell_type": "code",
   "execution_count": 1,
   "metadata": {},
   "outputs": [
    {
     "name": "stdout",
     "output_type": "stream",
     "text": [
      "Cuenta de  Juan Perez\n",
      "Impuesto a pagar 3000.0\n"
     ]
    }
   ],
   "source": [
    "class Cuenta:\n",
    "    def __init__(self,s,n):     #inicializador\n",
    "        self.saldo = s\n",
    "        self.nombre = n\n",
    "        self.tipo = 'ahorro' \n",
    "    def impuesto(self):          \n",
    "        if self.saldo < 5000:\n",
    "            return 0\n",
    "        else:\n",
    "            return self.saldo * .3\n",
    "\n",
    "ctaJuan=Cuenta(10000,'Juan Perez')\n",
    "print('Cuenta de ',ctaJuan.nombre)\n",
    "print(\"Impuesto a pagar\",ctaJuan.impuesto())"
   ]
  },
  {
   "cell_type": "markdown",
   "metadata": {},
   "source": [
    "**Ejercicios:**\n",
    "1. Describe con tus propias palabras que es : \n",
    "    -  Clase\n",
    "    -  Objeto\n",
    "    -  Inicializador (Constructor)\n",
    "    -  Atributo\n",
    "    -  Método\n",
    "2. Escribe una clase de una entidad de tu preferencia (coche, figura, animal etc.) que contenga campos para tres datos, un constructor para la clase y un método que despliegue la información."
   ]
  },
  {
   "cell_type": "markdown",
   "metadata": {},
   "source": [
    "### Destructor \n",
    "El destructor es una función que es llamada después de terminar el programa o cuando las referencias a un objeto son borradas."
   ]
  },
  {
   "cell_type": "code",
   "execution_count": 4,
   "metadata": {},
   "outputs": [
    {
     "name": "stdout",
     "output_type": "stream",
     "text": [
      "Crea una cuenta\n",
      "Llamo al destructor\n",
      "fin\n"
     ]
    }
   ],
   "source": [
    "class Cuenta:\n",
    "    def __init__(self):\n",
    "        print('Crea una cuenta')\n",
    "        \n",
    "    def __del__(self): #destructor\n",
    "        print('Llamo al destructor')\n",
    "        \n",
    "cta=Cuenta()\n",
    "del cta   #correrlo una vez con esta línea comentada primero\n",
    "print('fin')"
   ]
  },
  {
   "cell_type": "markdown",
   "metadata": {},
   "source": [
    "##  Otros conceptos"
   ]
  },
  {
   "cell_type": "raw",
   "metadata": {},
   "source": [
    "Variables de instancia.- Son únicamente para el objeto en cuestión\n",
    "Variables de clase.- Se refieren a datos compartidos por todas las instancias\n",
    "Métodos regulares.- Requieren \"self\" para operar sobre datos de la instancia\n",
    "Métodos de clase .- implementan constructores alternativos. Necesitan \"cls\" para poder crear instancias de subclases también.\n",
    "Métodos estáticos.- Funciones que están asociados con las clases. No requieren \"self\" y mejoran la capacidad de descubrimiento y requiere contexto para ser especificado."
   ]
  },
  {
   "cell_type": "markdown",
   "metadata": {},
   "source": [
    "### Variable de clase y variable de instancia"
   ]
  },
  {
   "cell_type": "code",
   "execution_count": 10,
   "metadata": {},
   "outputs": [
    {
     "name": "stdout",
     "output_type": "stream",
     "text": [
      "version de la clase  0.2\n",
      "Da el radio en cms: 2\n",
      "Area en cm cuadrados :  12.5664\n",
      "Perimetro en pulgadas:  4.947401574803149\n"
     ]
    }
   ],
   "source": [
    "class Circulo:\n",
    "    #attributo comun a todos las instancias de la clase\n",
    "    version='0.2'\n",
    "    categoria='Figura'\n",
    "    \n",
    "    def __init__(self,r,c):\n",
    "        self.radio=r        #atributos de la instancia\n",
    "        self.color=c\n",
    "        \n",
    "    def area(self):\n",
    "        return 3.1416*self.radio**2\n",
    "    def perimetro(self):\n",
    "        return 2*3.1416*r\n",
    "    \n",
    "   # @staticmethod         \n",
    "    def cmsaPulgadas(x):\n",
    "        return x/2.54\n",
    "        \n",
    "    \n",
    "print('version de la clase ', Circulo.version)\n",
    "r=float(input('Da el radio en cms: '))\n",
    "circulo1=Circulo(r,'rojo')\n",
    "print('Area en cm cuadrados : ', circulo1.area())\n",
    "percms= circulo1.perimetro()\n",
    "print('Perimetro en pulgadas: ', Circulo.cmsaPulgadas(percms))"
   ]
  },
  {
   "cell_type": "code",
   "execution_count": 9,
   "metadata": {},
   "outputs": [
    {
     "name": "stdout",
     "output_type": "stream",
     "text": [
      "1 5750.0\n"
     ]
    }
   ],
   "source": [
    "class Factura:\n",
    "    folio=0\n",
    "    \n",
    "    def __init__(self,e,s):\n",
    "        self.empresa=e\n",
    "        self.subtotal=s\n",
    "        Factura.folio+=1\n",
    "        \n",
    "    def total(self):\n",
    "        self.tot=self.subtotal*1.15\n",
    "        \n",
    " \n",
    "\n",
    "up=Factura('Universidad Panamericana',5000)\n",
    "up.total()\n",
    "print(up.folio,up.tot)"
   ]
  },
  {
   "cell_type": "code",
   "execution_count": 1,
   "metadata": {},
   "outputs": [
    {
     "name": "stdout",
     "output_type": "stream",
     "text": [
      "1 5750.0\n",
      "se han generado: 1 folios\n"
     ]
    }
   ],
   "source": [
    "class Factura:\n",
    "    folio=0\n",
    "    \n",
    "    def __init__(self,e,s):\n",
    "        Factura.folio+=1\n",
    "        self.empresa=e\n",
    "        self.subtotal=s\n",
    "        self.folio=Factura.folio\n",
    "       \n",
    "        \n",
    "    def total(self):\n",
    "        self.tot=self.subtotal*1.15\n",
    "        \n",
    "    def imprimeFolio(): \n",
    "        print('se han generado: '+str(Factura.folio)+' folios')\n",
    " \n",
    "\n",
    "up=Factura('Universidad Panamericana',5000)\n",
    "up.total()\n",
    "print(up.folio,up.tot)\n",
    "Factura.imprimeFolio()"
   ]
  },
  {
   "cell_type": "code",
   "execution_count": 7,
   "metadata": {},
   "outputs": [
    {
     "name": "stdout",
     "output_type": "stream",
     "text": [
      "Empresa: up\n",
      "Subtotal facturado: 300\n",
      "Empresa: bx\n",
      "Subtotal facturado: 4000\n",
      "Empresa: tel\n",
      "Subtotal facturado: 6000\n",
      "Empresa:  up\n",
      "Folio:  1\n",
      "Subtotal:  300.0\n",
      "Total:  345.0\n",
      "Empresa:  bx\n",
      "Folio:  2\n",
      "Subtotal:  4000.0\n",
      "Total:  4600.0\n",
      "Empresa:  tel\n",
      "Folio:  3\n",
      "Subtotal:  6000.0\n",
      "Total:  6899.999999999999\n",
      "se han generado: 4 folios\n"
     ]
    }
   ],
   "source": [
    "facturas=[]\n",
    "for i in range(3):\n",
    "    e=input('Empresa: ')\n",
    "    s=float(input('Subtotal facturado: '))\n",
    "    o=Factura(e,s)\n",
    "    facturas.append(o)\n",
    "\n",
    "for e in facturas:\n",
    "    print('Empresa: ',e.empresa)\n",
    "    print('Folio: ',e.folio)\n",
    "    print('Subtotal: ',e.subtotal)\n",
    "    e.total()\n",
    "    print('Total: ',e.tot)\n",
    "Factura.imprimeFolio()    "
   ]
  },
  {
   "cell_type": "code",
   "execution_count": 3,
   "metadata": {},
   "outputs": [
    {
     "data": {
      "text/plain": [
       "4"
      ]
     },
     "execution_count": 3,
     "metadata": {},
     "output_type": "execute_result"
    }
   ],
   "source": [
    "Factura.folio"
   ]
  },
  {
   "cell_type": "code",
   "execution_count": 2,
   "metadata": {},
   "outputs": [
    {
     "name": "stdout",
     "output_type": "stream",
     "text": [
      "Adam's age is: 19\n",
      "John's age is: 35\n"
     ]
    }
   ],
   "source": [
    "#https://www.programiz.com/python-programming/methods/built-in/classmethod\n",
    "from datetime import date\n",
    "\n",
    "class Person:\n",
    "    def __init__(self, name, age):\n",
    "        self.name = name\n",
    "        self.age = age\n",
    "\n",
    "    @classmethod\n",
    "    def fromBirthYear(cls, name, birthYear):\n",
    "        return cls(name, date.today().year - birthYear)\n",
    "\n",
    "    def display(self):\n",
    "        print(self.name + \"'s age is: \" + str(self.age))\n",
    "\n",
    "person = Person('Adam', 19)\n",
    "person.display()\n",
    "\n",
    "person1 = Person.fromBirthYear('John',  1985)\n",
    "person1.display()"
   ]
  },
  {
   "cell_type": "code",
   "execution_count": null,
   "metadata": {},
   "outputs": [],
   "source": []
  }
 ],
 "metadata": {
  "kernelspec": {
   "display_name": "Python 3",
   "language": "python",
   "name": "python3"
  },
  "language_info": {
   "codemirror_mode": {
    "name": "ipython",
    "version": 3
   },
   "file_extension": ".py",
   "mimetype": "text/x-python",
   "name": "python",
   "nbconvert_exporter": "python",
   "pygments_lexer": "ipython3",
   "version": "3.7.4"
  }
 },
 "nbformat": 4,
 "nbformat_minor": 2
}
