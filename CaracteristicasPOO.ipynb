{
 "cells": [
  {
   "cell_type": "markdown",
   "metadata": {},
   "source": [
    "#  Características de la Programación Orientada a Objetos"
   ]
  },
  {
   "cell_type": "markdown",
   "metadata": {},
   "source": [
    "## Encapsulamiento\n",
    "\n",
    "Restringir acceso a métodos o variables para prevenir cambios accidentales."
   ]
  },
  {
   "cell_type": "code",
   "execution_count": 10,
   "metadata": {},
   "outputs": [
    {
     "name": "stdout",
     "output_type": "stream",
     "text": [
      "55\n",
      "66\n",
      "33\n"
     ]
    }
   ],
   "source": [
    "class Ejemplo:\n",
    "    def __init__(self):\n",
    "        self.x=55\n",
    "        self._y=66\n",
    "        self.__z=33 #pseudo privada\n",
    "    \n",
    "    def imprime(self):\n",
    "        print(obj.__z)\n",
    "    \n",
    "    def __actualiza(self):\n",
    "        self.x=self.x+10\n",
    "    \n",
    "\n",
    "obj=Ejemplo()\n",
    "print(obj.x)\n",
    "print(obj._y)\n",
    "#print(obj.__z)  #no es accesible directamente\n",
    "obj.imprime()"
   ]
  },
  {
   "cell_type": "code",
   "execution_count": 8,
   "metadata": {},
   "outputs": [
    {
     "data": {
      "text/plain": [
       "33"
      ]
     },
     "execution_count": 8,
     "metadata": {},
     "output_type": "execute_result"
    }
   ],
   "source": [
    "#el truco... no está realmente oculta\n",
    "obj._Ejemplo__z"
   ]
  },
  {
   "cell_type": "markdown",
   "metadata": {},
   "source": [
    " ¿Cómo uso el método actualiza?"
   ]
  },
  {
   "cell_type": "code",
   "execution_count": null,
   "metadata": {},
   "outputs": [],
   "source": [
    "#escribe una posible llamada a __actualiza  ¡sin truco!\n"
   ]
  },
  {
   "cell_type": "markdown",
   "metadata": {},
   "source": [
    "###  Getter y Setter"
   ]
  },
  {
   "cell_type": "code",
   "execution_count": 11,
   "metadata": {},
   "outputs": [
    {
     "name": "stdout",
     "output_type": "stream",
     "text": [
      "da z100\n",
      "100\n"
     ]
    }
   ],
   "source": [
    "class Ejemplo:\n",
    "    def __init__(self):\n",
    "        self.x=55\n",
    "        self._y=66\n",
    "        self.__z=33 #pseudo privada\n",
    "    \n",
    "    def imprime(self):\n",
    "        print(obj.__z)\n",
    "    \n",
    "    def __actualiza(self):\n",
    "       self.x=self.x+10\n",
    "        \n",
    "    def get_z(self):\n",
    "       return self.__z\n",
    "    \n",
    "    def set_z(self,valor):\n",
    "       self.__z=valor\n",
    "\n",
    "obj=Ejemplo()\n",
    "valor=int(input('da z'))\n",
    "obj.set_z(valor)\n",
    "#print(obj.__z)  #no es accesible directamente\n",
    "obj.imprime()"
   ]
  },
  {
   "cell_type": "markdown",
   "metadata": {},
   "source": [
    "##  Herencia"
   ]
  },
  {
   "cell_type": "markdown",
   "metadata": {},
   "source": [
    "Atributo por la cual es posible definir una clase hija que reúsa (hereda), extiende o modifica el comportamiento de una clase padre.\n",
    "\n",
    "-  **Clase base.-** la clase de la que se hereda\n",
    "-  **Clase derivada.-** clase que hereda o especializa\n",
    "\n",
    "Se puede heredar de varias clases en Python\n",
    "\n",
    "La herencia es transitiva"
   ]
  },
  {
   "cell_type": "markdown",
   "metadata": {},
   "source": [
    "La herencia nos permite definir una clase tomando funcionalidad de una clase base (o superclase) y añadir cambios introduciendo nuevos componentes en la clase derivada (subclase). Las instancias generadas con esta clase heredan los atributos de la clase base."
   ]
  },
  {
   "cell_type": "markdown",
   "metadata": {},
   "source": [
    "-  Las instancias heredan de las clases y las clases heredan de las superclases.\n",
    "-  Las superclases son enlistadas en paréntesis en el encabezado de la clase.\n",
    "-  Las clases heredan atributos de sus superclases\n",
    "-  Las instancias heredan atributos de todas las clases accesibles\n",
    "-  Cada referencia *objeto.atributo* genera una búsqueda en el árbol de clase para traer ese atributo.\n",
    "-  Los cambios de customización se realizan en las subclases no en las superclases."
   ]
  },
  {
   "cell_type": "code",
   "execution_count": 2,
   "metadata": {},
   "outputs": [
    {
     "name": "stdout",
     "output_type": "stream",
     "text": [
      "Nombre:  Juan\n",
      "Apellido paterno:  Perez\n",
      "Nombre:  Garcia\n"
     ]
    }
   ],
   "source": [
    "class Persona:\n",
    "    def __init__(self, nom, app, apm):\n",
    "        self.nombre=nom\n",
    "        self.appaterno=app\n",
    "        self.apmaterno=apm\n",
    "        self.edad=0\n",
    "        \n",
    "    def despliega(self):\n",
    "        print('Nombre: ',self.nombre)\n",
    "        print('Apellido paterno: ',self.appaterno)\n",
    "        print('Nombre: ',self.apmaterno)\n",
    "        \n",
    "x=Persona('Juan','Perez','Garcia')\n",
    "x.despliega()"
   ]
  },
  {
   "cell_type": "code",
   "execution_count": 13,
   "metadata": {},
   "outputs": [
    {
     "name": "stdout",
     "output_type": "stream",
     "text": [
      "Nombre:  Maria\n",
      "Apellido paterno:  Juarez\n",
      "Nombre:  Lopez\n"
     ]
    }
   ],
   "source": [
    "class Empleado(Persona):  # hereda los atributos de Persona\n",
    "    pass\n",
    "\n",
    "e=Empleado('Maria','Juarez','Lopez')\n",
    "e.despliega()"
   ]
  },
  {
   "cell_type": "code",
   "execution_count": 23,
   "metadata": {},
   "outputs": [
    {
     "name": "stdout",
     "output_type": "stream",
     "text": [
      "Nombre:  Maria\n",
      "Apellido paterno:  Juarez\n",
      "Nombre:  Lopez\n",
      "Aguinaldo:  500.00000000000006\n"
     ]
    }
   ],
   "source": [
    "class Empleado(Persona):\n",
    "    def __init__(self,nom,app,apm,s,p):   #el inicializador de la clase derivada anula (override) al de la clase base\n",
    "        Persona.__init__(self,nom,app,apm)\n",
    "        #super().__init__(nom,app,apm)    #función built-in que da acceso a methodos en una superclase\n",
    "        self.sueldo=s\n",
    "        self.puesto=p\n",
    "    def aguinaldo(self):\n",
    "        return self.sueldo/30*15\n",
    "\n",
    "e=Empleado('Maria','Juarez','Lopez',1000,'gerente')\n",
    "e.despliega() \n",
    "print('Aguinaldo: ',e.aguinaldo())"
   ]
  },
  {
   "cell_type": "markdown",
   "metadata": {},
   "source": [
    "Ejercicio: Escribe otra clase Alumno que herede de Persona con atributos (campos y funciones) propios de la clase"
   ]
  },
  {
   "cell_type": "markdown",
   "metadata": {},
   "source": [
    "## Abstracción"
   ]
  },
  {
   "cell_type": "markdown",
   "metadata": {},
   "source": [
    "-  Se usa una clase abstracta si una clase base quiere obligar a que las clases derivadas implementen un método.\n",
    "-  Se utilizan para establecer un conjunto de características y comportamientos comunes a todas las clases derivadas.\n",
    "-  El método abstract en la base no tiene implementación. Deberá implementarse en la clase derivada\n",
    "-  Si existe un método abstracto en una clase hace que la clase sea abstracta\n",
    "-  Una clase abstracta no puede ser instanciada."
   ]
  },
  {
   "cell_type": "markdown",
   "metadata": {},
   "source": [
    "#### Para diseñar una clase abstracta:"
   ]
  },
  {
   "cell_type": "code",
   "execution_count": 3,
   "metadata": {},
   "outputs": [],
   "source": [
    "# 1. Python no soporta clases abstractas de forma nativa.. es necesario importar el módulo abc\n",
    "\n",
    "from abc import ABC,  abstractmethod\n",
    "\n",
    "# 2. Al definir la clase abstracta debe heredar de ABC\n",
    "\n",
    "class AbstractClassExample(ABC):\n",
    "\n",
    "# 3. Por medio del decorador  @abstractmethod definir un método abstracto (que se debe implementar en la subclase)\n",
    "    \n",
    "    @abstractmethod\n",
    "    def hacer_algo(self):\n",
    "        pass\n",
    "#4. Crear una clase derivada que implemente forzosamente el método abstracto anterior   \n",
    " "
   ]
  },
  {
   "cell_type": "markdown",
   "metadata": {},
   "source": [
    "Ejemplo: Crea una clase abstracta Vehiculo con atributos tipo y numreg, un método abstracto despliega y otro método para imprimir su capacidad de acuerdo al tipo"
   ]
  },
  {
   "cell_type": "code",
   "execution_count": 4,
   "metadata": {},
   "outputs": [],
   "source": [
    "from abc import ABC,  abstractmethod\n",
    "\n",
    "#clase abstracta Vehiculo\n",
    "class Vehiculo(ABC):\n",
    "    def __init__(self,n):     #inicializador\n",
    "        self.tipo = 'terrestre'\n",
    "        self.numreg = n\n",
    "    \n",
    "    @abstractmethod    \n",
    "    def despliega():  #método abstracto\n",
    "        pass\n",
    "    \n",
    "    def capacidad(self):\n",
    "        if self.tipo=='terrestre':\n",
    "            return 'corre'\n",
    "        elif self.tipo=='aereo':\n",
    "            return 'vuela'\n",
    "        else:\n",
    "            return 'navega'\n",
    "                  \n",
    "\n",
    "#v=Vehiculo(123)  #no se puede instanciar una clase abstracta"
   ]
  },
  {
   "cell_type": "code",
   "execution_count": 5,
   "metadata": {},
   "outputs": [
    {
     "name": "stdout",
     "output_type": "stream",
     "text": [
      "Tipo: terrestre\n",
      "Numero de registro: 1\n",
      "\n",
      "Datos del auto:  Año: 2007   Marca:  Jeep   Placa:  2990\n",
      "Tenencia: $ 0\n"
     ]
    },
    {
     "data": {
      "text/plain": [
       "'corre'"
      ]
     },
     "execution_count": 5,
     "metadata": {},
     "output_type": "execute_result"
    }
   ],
   "source": [
    "#clase derivada (subclase) de Vehiculo\n",
    "class Coche(Vehiculo): \n",
    "    def __init__(self, n,a, m, p):\n",
    "        super().__init__(n) \n",
    "        self.año = a\n",
    "        self.marca = m\n",
    "        self.placa = p \n",
    "\n",
    "    def tenencia(self):\n",
    "        if self.año < 2010:\n",
    "            return 0\n",
    "        elif self.año < 2016:\n",
    "            return 3000\n",
    "        else:\n",
    "            return 5000\n",
    "    def despliega(self):\n",
    "        print('Tipo:',self.tipo)\n",
    "        print('Numero de registro:', self.numreg)\n",
    "        print('\\nDatos del auto:  Año:', self.año, '  Marca: ', self.marca, '  Placa: ', self.placa)\n",
    "        print('Tenencia: $',self.tenencia())\n",
    "coche2=Coche(1,2007,'Jeep',2990)\n",
    "coche2.despliega()\n",
    "coche2.capacidad()"
   ]
  },
  {
   "cell_type": "markdown",
   "metadata": {},
   "source": [
    "**Ejercicio:**\n",
    "Escribe una nueva clase para cualquier otro vechículo con atributos y métodos característicos (bicicleta, barco, helicóptero, dron..etc.)"
   ]
  },
  {
   "cell_type": "code",
   "execution_count": null,
   "metadata": {},
   "outputs": [],
   "source": []
  }
 ],
 "metadata": {
  "kernelspec": {
   "display_name": "Python 3",
   "language": "python",
   "name": "python3"
  },
  "language_info": {
   "codemirror_mode": {
    "name": "ipython",
    "version": 3
   },
   "file_extension": ".py",
   "mimetype": "text/x-python",
   "name": "python",
   "nbconvert_exporter": "python",
   "pygments_lexer": "ipython3",
   "version": "3.7.3"
  }
 },
 "nbformat": 4,
 "nbformat_minor": 2
}
