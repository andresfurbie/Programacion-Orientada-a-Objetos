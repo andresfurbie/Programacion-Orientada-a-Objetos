{
 "cells": [
  {
   "cell_type": "markdown",
   "metadata": {},
   "source": [
    "#  Características de la Programación Orientada a Objetos"
   ]
  },
  {
   "cell_type": "markdown",
   "metadata": {},
   "source": [
    "## Encapsulamiento\n",
    "\n",
    "Restringir acceso a métodos o variables para prevenir cambios accidentales."
   ]
  },
  {
   "cell_type": "code",
   "execution_count": 3,
   "metadata": {},
   "outputs": [
    {
     "name": "stdout",
     "output_type": "stream",
     "text": [
      "100\n",
      "66\n"
     ]
    },
    {
     "ename": "AttributeError",
     "evalue": "'Ejemplo' object has no attribute '__z'",
     "output_type": "error",
     "traceback": [
      "\u001b[1;31m---------------------------------------------------------------------------\u001b[0m",
      "\u001b[1;31mAttributeError\u001b[0m                            Traceback (most recent call last)",
      "\u001b[1;32m<ipython-input-3-2d612687082e>\u001b[0m in \u001b[0;36m<module>\u001b[1;34m\u001b[0m\n\u001b[0;32m     17\u001b[0m \u001b[0mprint\u001b[0m\u001b[1;33m(\u001b[0m\u001b[0mobj\u001b[0m\u001b[1;33m.\u001b[0m\u001b[0m_y\u001b[0m\u001b[1;33m)\u001b[0m\u001b[1;33m\u001b[0m\u001b[1;33m\u001b[0m\u001b[0m\n\u001b[0;32m     18\u001b[0m \u001b[1;33m\u001b[0m\u001b[0m\n\u001b[1;32m---> 19\u001b[1;33m \u001b[0mprint\u001b[0m\u001b[1;33m(\u001b[0m\u001b[0mobj\u001b[0m\u001b[1;33m.\u001b[0m\u001b[0m__z\u001b[0m\u001b[1;33m)\u001b[0m  \u001b[1;31m#no es accesible directamente\u001b[0m\u001b[1;33m\u001b[0m\u001b[1;33m\u001b[0m\u001b[0m\n\u001b[0m\u001b[0;32m     20\u001b[0m \u001b[0mobj\u001b[0m\u001b[1;33m.\u001b[0m\u001b[0mimprime\u001b[0m\u001b[1;33m(\u001b[0m\u001b[1;33m)\u001b[0m\u001b[1;33m\u001b[0m\u001b[1;33m\u001b[0m\u001b[0m\n",
      "\u001b[1;31mAttributeError\u001b[0m: 'Ejemplo' object has no attribute '__z'"
     ]
    }
   ],
   "source": [
    "class Ejemplo:\n",
    "    def __init__(self):\n",
    "        self.x=55\n",
    "        self._y=66\n",
    "        self.__z=33 #pseudo privada\n",
    "    \n",
    "    def imprime(self):\n",
    "        print(obj.__z)\n",
    "    \n",
    "    def __actualiza(self):\n",
    "        self.x=self.x+10\n",
    "    \n",
    "\n",
    "obj=Ejemplo()\n",
    "obj.x=100\n",
    "print(obj.x)\n",
    "print(obj._y)\n",
    "\n",
    "print(obj.__z)  #no es accesible directamente\n",
    "obj.imprime()"
   ]
  },
  {
   "cell_type": "code",
   "execution_count": 4,
   "metadata": {},
   "outputs": [
    {
     "data": {
      "text/plain": [
       "33"
      ]
     },
     "execution_count": 4,
     "metadata": {},
     "output_type": "execute_result"
    }
   ],
   "source": [
    "#el truco... no está realmente oculta\n",
    "obj._Ejemplo__z"
   ]
  },
  {
   "cell_type": "markdown",
   "metadata": {},
   "source": [
    " ¿Cómo uso el método actualiza?"
   ]
  },
  {
   "cell_type": "code",
   "execution_count": null,
   "metadata": {},
   "outputs": [],
   "source": [
    "#escribe una posible llamada a __actualiza  ¡sin truco!\n"
   ]
  },
  {
   "cell_type": "markdown",
   "metadata": {},
   "source": [
    "###  Getter y Setter"
   ]
  },
  {
   "cell_type": "code",
   "execution_count": 11,
   "metadata": {},
   "outputs": [
    {
     "name": "stdout",
     "output_type": "stream",
     "text": [
      "da z100\n",
      "100\n"
     ]
    }
   ],
   "source": [
    "class Ejemplo:\n",
    "    def __init__(self):\n",
    "        self.x=55\n",
    "        self._y=66\n",
    "        self.__z=33 #pseudo privada\n",
    "    \n",
    "    def imprime(self):\n",
    "        print(obj.__z)\n",
    "    \n",
    "    def __actualiza(self):\n",
    "       self.x=self.x+10\n",
    "        \n",
    "    def get_z(self):\n",
    "       return self.__z\n",
    "    \n",
    "    def set_z(self,valor):\n",
    "       self.__z=valor\n",
    "\n",
    "obj=Ejemplo()\n",
    "valor=int(input('da z'))\n",
    "obj.set_z(valor)\n",
    "#print(obj.__z)  #no es accesible directamente\n",
    "obj.imprime()"
   ]
  },
  {
   "cell_type": "markdown",
   "metadata": {},
   "source": [
    "##  Herencia"
   ]
  },
  {
   "cell_type": "markdown",
   "metadata": {},
   "source": [
    "Atributo por la cual es posible definir una clase hija que reúsa (hereda), extiende o modifica el comportamiento de una clase padre.\n",
    "\n",
    "-  **Clase base.-** la clase de la que se hereda\n",
    "-  **Clase derivada.-** clase que hereda o especializa\n",
    "\n",
    "Se puede heredar de varias clases en Python\n",
    "\n",
    "La herencia es transitiva"
   ]
  },
  {
   "cell_type": "markdown",
   "metadata": {},
   "source": [
    "La herencia nos permite definir una clase tomando funcionalidad de una clase base (o superclase) y añadir cambios introduciendo nuevos componentes en la clase derivada (subclase). Las instancias generadas con esta clase heredan los atributos de la clase base."
   ]
  },
  {
   "cell_type": "markdown",
   "metadata": {},
   "source": [
    "-  Las instancias heredan de las clases y las clases heredan de las superclases.\n",
    "-  Las superclases son enlistadas en paréntesis en el encabezado de la clase.\n",
    "-  Las clases heredan atributos de sus superclases\n",
    "-  Las instancias heredan atributos de todas las clases accesibles\n",
    "-  Cada referencia *objeto.atributo* genera una búsqueda en el árbol de clase para traer ese atributo.\n",
    "-  Los cambios de customización se realizan en las subclases no en las superclases."
   ]
  },
  {
   "cell_type": "code",
   "execution_count": 2,
   "metadata": {},
   "outputs": [
    {
     "name": "stdout",
     "output_type": "stream",
     "text": [
      "Nombre:  Juan\n",
      "Apellido paterno:  Perez\n",
      "Nombre:  Garcia\n"
     ]
    }
   ],
   "source": [
    "class Persona:\n",
    "    def __init__(self, nom, app, apm):\n",
    "        self.nombre=nom\n",
    "        self.appaterno=app\n",
    "        self.apmaterno=apm\n",
    "        self.edad=0\n",
    "        \n",
    "    def despliega(self):\n",
    "        print('Nombre: ',self.nombre)\n",
    "        print('Apellido paterno: ',self.appaterno)\n",
    "        print('Nombre: ',self.apmaterno)\n",
    "        \n",
    "x=Persona('Juan','Perez','Garcia')\n",
    "x.despliega()"
   ]
  },
  {
   "cell_type": "code",
   "execution_count": 13,
   "metadata": {},
   "outputs": [
    {
     "name": "stdout",
     "output_type": "stream",
     "text": [
      "Nombre:  Maria\n",
      "Apellido paterno:  Juarez\n",
      "Nombre:  Lopez\n"
     ]
    }
   ],
   "source": [
    "class Empleado(Persona):  # hereda los atributos de Persona\n",
    "    pass\n",
    "\n",
    "e=Empleado('Maria','Juarez','Lopez')\n",
    "e.despliega()"
   ]
  },
  {
   "cell_type": "code",
   "execution_count": 23,
   "metadata": {},
   "outputs": [
    {
     "name": "stdout",
     "output_type": "stream",
     "text": [
      "Nombre:  Maria\n",
      "Apellido paterno:  Juarez\n",
      "Nombre:  Lopez\n",
      "Aguinaldo:  500.00000000000006\n"
     ]
    }
   ],
   "source": [
    "class Empleado(Persona):\n",
    "    def __init__(self,nom,app,apm,s,p):   #el inicializador de la clase derivada anula (override) al de la clase base\n",
    "        Persona.__init__(self,nom,app,apm)\n",
    "        #super().__init__(nom,app,apm)    #función built-in que da acceso a methodos en una superclase\n",
    "        self.sueldo=s\n",
    "        self.puesto=p\n",
    "    def aguinaldo(self):\n",
    "        return self.sueldo/30*15\n",
    "\n",
    "e=Empleado('Maria','Juarez','Lopez',1000,'gerente')\n",
    "e.despliega() \n",
    "print('Aguinaldo: ',e.aguinaldo())"
   ]
  },
  {
   "cell_type": "markdown",
   "metadata": {},
   "source": [
    "Ejercicio: Escribe otra clase Alumno que herede de Persona con atributos (campos y funciones) propios de la clase"
   ]
  },
  {
   "cell_type": "code",
   "execution_count": null,
   "metadata": {},
   "outputs": [],
   "source": []
  }
 ],
 "metadata": {
  "kernelspec": {
   "display_name": "Python 3",
   "language": "python",
   "name": "python3"
  },
  "language_info": {
   "codemirror_mode": {
    "name": "ipython",
    "version": 3
   },
   "file_extension": ".py",
   "mimetype": "text/x-python",
   "name": "python",
   "nbconvert_exporter": "python",
   "pygments_lexer": "ipython3",
   "version": "3.7.4"
  }
 },
 "nbformat": 4,
 "nbformat_minor": 2
}
